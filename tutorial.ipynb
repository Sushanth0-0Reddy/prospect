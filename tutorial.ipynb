{
 "cells": [
  {
   "cell_type": "markdown",
   "metadata": {},
   "source": [
    "# Distributionally Robust Optimization with Prospect\n",
    "\n",
    "In this tutorial, we show how to train models that minimize spectral risk measures using Prospect as well as baselines. Please see `README.md` for environment setup and other instructions."
   ]
  },
  {
   "cell_type": "code",
   "execution_count": 1,
   "metadata": {},
   "outputs": [],
   "source": [
    "from src.utils.training import get_objective, get_optimizer\n",
    "from src.utils.data import load_dataset\n",
    "from scipy.optimize import minimize\n",
    "\n",
    "import matplotlib.pyplot as plt\n",
    "import numpy as np\n",
    "import torch\n",
    "from tqdm import tqdm"
   ]
  },
  {
   "cell_type": "markdown",
   "metadata": {},
   "source": [
    "The fundamental objects required are an objective of type `Objective` and optimizer of type `Optimizer`. We provide utilities to create the versions used in the paper below. In either case, we pass a dictionary containing problem parameters."
   ]
  },
  {
   "cell_type": "code",
   "execution_count": 2,
   "metadata": {},
   "outputs": [],
   "source": [
    "# Load a dataset, one of either: 'yacht', 'energy', 'concrete', 'kin8m', 'power', 'acsincome', 'diabetes', 'amazon', or 'iwildcam'.\n",
    "# The smaller UCI and OpenML datasets will be downloaded automatically to the /data folder, whereas the larger ones require pre-downloading (See `README.md`).\n",
    "dataset = \"yacht\"\n",
    "\n",
    "X_train, y_train, X_val, y_val = load_dataset(dataset)"
   ]
  },
  {
   "cell_type": "code",
   "execution_count": 3,
   "metadata": {},
   "outputs": [],
   "source": [
    "# Build objective.\n",
    "model_cfg = {\n",
    "    \"objective\": \"esrm\", # Options: 'superquantile', 'extremile', 'esrm'. You can also append '_lite' and '_hard' for a less/more skewed spectrum.\n",
    "    \"l2_reg\": 1.0,\n",
    "    \"loss\": \"squared_error\",  # Options: 'squared_error', 'binary_cross_entropy', 'multinomial_cross_entropy'.\n",
    "    \"n_class\": None,\n",
    "    \"shift_cost\": 1.0,\n",
    "}\n",
    "autodiff = True # non-autodiff variants\n",
    "train_obj = get_objective(model_cfg, X_train, y_train, autodiff=autodiff)\n",
    "val_obj   = get_objective(model_cfg, X_val, y_val, autodiff=autodiff)"
   ]
  },
  {
   "cell_type": "code",
   "execution_count": 4,
   "metadata": {},
   "outputs": [],
   "source": [
    "# Build optimizer.\n",
    "seed = 1\n",
    "optim_cfg = {\n",
    "    \"optimizer\": \"prospect\", # Options: 'sgd', 'srda', 'lsvrg', 'saddlesaga', 'prospect', 'moreau'\n",
    "    \"lr\": 0.03,\n",
    "    \"epoch_len\": 200, # Used as an update interval for LSVRG, and otherwise is simply a logging interval for other methods.\n",
    "    \"shift_cost\": 1.0,\n",
    "}\n",
    "optimizer = get_optimizer(optim_cfg, train_obj, seed)"
   ]
  },
  {
   "cell_type": "markdown",
   "metadata": {},
   "source": [
    "In order to train a model, we simply loop through the desired number of steps."
   ]
  },
  {
   "cell_type": "code",
   "execution_count": 5,
   "metadata": {},
   "outputs": [
    {
     "name": "stderr",
     "output_type": "stream",
     "text": [
      "100%|██████████| 64/64 [00:05<00:00, 11.02it/s]\n"
     ]
    }
   ],
   "source": [
    "n_epochs = 64\n",
    "\n",
    "train_losses = []\n",
    "val_losses = []\n",
    "epoch_len = optimizer.get_epoch_len()\n",
    "for epoch in tqdm(range(n_epochs)):\n",
    "\n",
    "    optimizer.start_epoch()\n",
    "    for _ in range(epoch_len):\n",
    "        optimizer.step()\n",
    "    optimizer.end_epoch()\n",
    "\n",
    "    # The current iterate can be accessed with optimizer.weights, \n",
    "    # and the full-batch loss can be computed with objective.get_batch_loss.\n",
    "    train_losses.append(train_obj.get_batch_loss(optimizer.weights).item())\n",
    "    val_losses.append(val_obj.get_batch_loss(optimizer.weights).item())"
   ]
  },
  {
   "cell_type": "markdown",
   "metadata": {},
   "source": [
    "We can estimate the loss using L-BFGS as a reference."
   ]
  },
  {
   "cell_type": "code",
   "execution_count": 6,
   "metadata": {},
   "outputs": [
    {
     "name": "stdout",
     "output_type": "stream",
     "text": [
      "L-BGFS sucsess! Minimum loss on yacht: 0.1914\n"
     ]
    },
    {
     "name": "stderr",
     "output_type": "stream",
     "text": [
      "/home/ronak/miniconda3/envs/extr/lib/python3.8/site-packages/torch/autograd/__init__.py:394: UserWarning: CUDA initialization: Unexpected error from cudaGetDeviceCount(). Did you run some cuda functions before calling NumCudaDevices() that might have already set an error? Error 804: forward compatibility was attempted on non supported HW (Triggered internally at ../c10/cuda/CUDAFunctions.cpp:108.)\n",
      "  result = Variable._execution_engine.run_backward(  # Calls into the C++ engine to run the backward pass\n"
     ]
    }
   ],
   "source": [
    "train_obj_ = get_objective(model_cfg, X_train, y_train)\n",
    "\n",
    "# Define function and Jacobian oracles.\n",
    "def fun(w):\n",
    "    return train_obj_.get_batch_loss(torch.tensor(w, dtype=torch.float64)).item()\n",
    "\n",
    "def jac(w):\n",
    "    return (\n",
    "        train_obj_.get_batch_subgrad(\n",
    "            torch.tensor(w, dtype=torch.float64, requires_grad=True)\n",
    "        )\n",
    "        .detach()\n",
    "        .numpy()\n",
    "    )\n",
    "\n",
    "# Run optimizer.\n",
    "d = train_obj.d\n",
    "init = np.zeros((d,), dtype=np.float64)\n",
    "if model_cfg[\"n_class\"]:\n",
    "    init = np.zeros((model_cfg[\"n_class\"] * d,), dtype=np.float64)\n",
    "else:\n",
    "    init = np.zeros((d,), dtype=np.float64)\n",
    "output = minimize(fun, init, method=\"L-BFGS-B\", jac=jac)\n",
    "if output.success:\n",
    "    print(f\"L-BGFS sucsess! Minimum loss on {dataset}: {output.fun:0.4f}\")\n",
    "else:\n",
    "    raise Exception(output.message)"
   ]
  },
  {
   "cell_type": "code",
   "execution_count": 7,
   "metadata": {},
   "outputs": [
    {
     "data": {
      "image/png": "[encoded data removed]",
      "text/plain": [
       "<Figure size 500x500 with 1 Axes>"
      ]
     },
     "metadata": {},
     "output_type": "display_data"
    }
   ],
   "source": [
    "# Display training and validation loss.\n",
    "\n",
    "fig, ax = plt.subplots(1, 1, figsize=(5, 5))\n",
    "\n",
    "t = np.arange(len(train_losses))\n",
    "\n",
    "minimum_loss = output.fun\n",
    "train_losses = np.array(train_losses)\n",
    "subopt = (train_losses - minimum_loss) / (train_losses[0] - minimum_loss)\n",
    "\n",
    "downsample = 4\n",
    "ax.plot(t[::downsample], subopt[::downsample], color=\"tab:red\", linewidth=3, label=r\"Train Suboptimality (with $\\ell^2$ reg.)\")\n",
    "ax.set_xlabel(\"Epochs\")\n",
    "\n",
    "ax.legend()\n",
    "ax.set_yscale(\"log\")\n",
    "plt.show()"
   ]
  },
  {
   "cell_type": "code",
   "execution_count": null,
   "metadata": {},
   "outputs": [],
   "source": []
  }
 ],
 "metadata": {
  "kernelspec": {
   "display_name": "dro",
   "language": "python",
   "name": "python3"
  },
  "language_info": {
   "codemirror_mode": {
    "name": "ipython",
    "version": 3
   },
   "file_extension": ".py",
   "mimetype": "text/x-python",
   "name": "python",
   "nbconvert_exporter": "python",
   "pygments_lexer": "ipython3",
   "version": "3.8.16"
  }
 },
 "nbformat": 4,
 "nbformat_minor": 2
}
